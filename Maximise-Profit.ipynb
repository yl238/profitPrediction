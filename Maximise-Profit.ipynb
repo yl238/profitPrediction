{
 "cells": [
  {
   "cell_type": "code",
   "execution_count": 1,
   "metadata": {
    "collapsed": true
   },
   "outputs": [],
   "source": [
    "%matplotlib inline\n",
    "import numpy as np\n",
    "import pandas as pd\n",
    "import matplotlib.pyplot as plt\n",
    "import seaborn as sns"
   ]
  },
  {
   "cell_type": "code",
   "execution_count": 2,
   "metadata": {
    "collapsed": true
   },
   "outputs": [],
   "source": [
    "from feature_engineering import *"
   ]
  },
  {
   "cell_type": "code",
   "execution_count": 3,
   "metadata": {
    "collapsed": true
   },
   "outputs": [],
   "source": [
    "from sklearn.ensemble import RandomForestClassifier, GradientBoostingClassifier\n",
    "from sklearn.linear_model import LogisticRegression\n",
    "from sklearn.metrics import classification_report, roc_curve\n",
    "from sklearn.model_selection import train_test_split\n",
    "from sklearn.preprocessing import StandardScaler\n",
    "from sklearn.pipeline import make_pipeline"
   ]
  },
  {
   "cell_type": "code",
   "execution_count": 4,
   "metadata": {
    "collapsed": true
   },
   "outputs": [],
   "source": [
    "sns.set(font='Lato', font_scale=1.5)"
   ]
  },
  {
   "cell_type": "code",
   "execution_count": 5,
   "metadata": {
    "collapsed": true
   },
   "outputs": [],
   "source": [
    "def predict_profit(X, profit, clf, bins=20):\n",
    "    \"\"\"\n",
    "    Estimate total profit as a percentage of the population called.\n",
    "    \n",
    "    \"\"\"\n",
    "    predicted_df = pd.DataFrame()\n",
    "    predicted_df['profit'] = profit\n",
    "    predicted_df['proba'] = clf.predict_proba(X)[:, 1]\n",
    "    predicted_df['bin_positive'] = pd.qcut(predicted_df['proba'], bins)\n",
    "    binned_profit = []\n",
    "    for bin_id, data in predicted_df.groupby('bin_positive'):\n",
    "        binned_profit.append(data['profit'].sum())\n",
    "    binned_profit.append(0)\n",
    "    return predicted_df, np.array(binned_profit[::-1]).cumsum()"
   ]
  },
  {
   "cell_type": "markdown",
   "metadata": {},
   "source": [
    "### Read features and target from file"
   ]
  },
  {
   "cell_type": "code",
   "execution_count": 6,
   "metadata": {
    "collapsed": true
   },
   "outputs": [],
   "source": [
    "feature_target_file = '../output/bank_all_features_target.csv'\n",
    "feature_target_df = pd.read_csv(feature_target_file)\n",
    "features_df, target = extract_features_target(feature_target_df)"
   ]
  },
  {
   "cell_type": "markdown",
   "metadata": {},
   "source": [
    "### Add the net profit per customer"
   ]
  },
  {
   "cell_type": "code",
   "execution_count": 7,
   "metadata": {
    "collapsed": true
   },
   "outputs": [],
   "source": [
    "profit = target*features_df['balance']*0.01-1\n",
    "features_df['profit'] = profit"
   ]
  },
  {
   "cell_type": "markdown",
   "metadata": {},
   "source": [
    "## Train/test split, make sure split the profit column\n",
    "Then extract the features and the profit separately"
   ]
  },
  {
   "cell_type": "code",
   "execution_count": 8,
   "metadata": {
    "collapsed": true
   },
   "outputs": [],
   "source": [
    "X_train_profit, X_test_profit, y_train, y_test = train_test_split(features_df.values, target, test_size=0.2, random_state=42)\n",
    "X_train = X_train_profit[:, :-1]\n",
    "X_test = X_test_profit[:, :-1]\n",
    "profit_train = X_train_profit[:,-1]\n",
    "profit_test = X_test_profit[:, -1]"
   ]
  },
  {
   "cell_type": "markdown",
   "metadata": {},
   "source": [
    "## Build models\n",
    "1. Logistic Regression\n",
    "2. Random Forest\n",
    "3. Gradient Boosting"
   ]
  },
  {
   "cell_type": "code",
   "execution_count": 10,
   "metadata": {},
   "outputs": [
    {
     "data": {
      "text/plain": [
       "Pipeline(memory=None,\n",
       "     steps=[('standardscaler', StandardScaler(copy=True, with_mean=True, with_std=True)), ('logisticregression', LogisticRegression(C=10, class_weight=None, dual=False, fit_intercept=True,\n",
       "          intercept_scaling=1, max_iter=100, multi_class='ovr', n_jobs=1,\n",
       "          penalty='l2', random_state=None, solver='liblinear', tol=0.0001,\n",
       "          verbose=0, warm_start=False))])"
      ]
     },
     "execution_count": 10,
     "metadata": {},
     "output_type": "execute_result"
    }
   ],
   "source": [
    "lr_pipe = make_pipeline(StandardScaler(), LogisticRegression(C=10))\n",
    "lr_pipe.fit(X_train, y_train)"
   ]
  },
  {
   "cell_type": "code",
   "execution_count": 11,
   "metadata": {},
   "outputs": [
    {
     "data": {
      "text/plain": [
       "RandomForestClassifier(bootstrap=True, class_weight={0: 1, 1: 10},\n",
       "            criterion='gini', max_depth=10, max_features=50,\n",
       "            max_leaf_nodes=None, min_impurity_decrease=0.0,\n",
       "            min_impurity_split=None, min_samples_leaf=1,\n",
       "            min_samples_split=2, min_weight_fraction_leaf=0.0,\n",
       "            n_estimators=300, n_jobs=1, oob_score=False, random_state=None,\n",
       "            verbose=0, warm_start=False)"
      ]
     },
     "execution_count": 11,
     "metadata": {},
     "output_type": "execute_result"
    }
   ],
   "source": [
    "forest = RandomForestClassifier(class_weight={0: 1, 1:10}, max_depth=10, max_features=50, n_estimators=300)\n",
    "forest.fit(X_train, y_train)"
   ]
  },
  {
   "cell_type": "code",
   "execution_count": 35,
   "metadata": {},
   "outputs": [
    {
     "data": {
      "text/plain": [
       "GradientBoostingClassifier(criterion='friedman_mse', init=None,\n",
       "              learning_rate=0.1, loss='deviance', max_depth=5,\n",
       "              max_features=None, max_leaf_nodes=None,\n",
       "              min_impurity_decrease=0.0, min_impurity_split=None,\n",
       "              min_samples_leaf=1, min_samples_split=2,\n",
       "              min_weight_fraction_leaf=0.0, n_estimators=200,\n",
       "              presort='auto', random_state=None, subsample=1.0, verbose=0,\n",
       "              warm_start=False)"
      ]
     },
     "execution_count": 35,
     "metadata": {},
     "output_type": "execute_result"
    }
   ],
   "source": [
    "gbrt = GradientBoostingClassifier(max_depth=5, n_estimators=200)\n",
    "gbrt.fit(X_train, y_train)"
   ]
  },
  {
   "cell_type": "markdown",
   "metadata": {},
   "source": [
    "## Make prediction"
   ]
  },
  {
   "cell_type": "code",
   "execution_count": 13,
   "metadata": {},
   "outputs": [
    {
     "data": {
      "text/plain": [
       "10855.38"
      ]
     },
     "execution_count": 13,
     "metadata": {},
     "output_type": "execute_result"
    }
   ],
   "source": [
    "base_case = profit_test.sum()\n",
    "base_case"
   ]
  },
  {
   "cell_type": "code",
   "execution_count": 14,
   "metadata": {
    "collapsed": true
   },
   "outputs": [],
   "source": [
    "bins = 20\n",
    "ratios = 1./(bins)*np.arange(bins+1)*100\n",
    "_, cum_profit_lr = predict_profit(X_test, profit_test, lr_pipe, bins=bins)\n",
    "predicted_df, cum_profit_rf = predict_profit(X_test, profit_test, forest, bins=bins)\n",
    "_, cum_profit_gbrt = predict_profit(X_test, profit_test, gbrt, bins=bins)"
   ]
  },
  {
   "cell_type": "markdown",
   "metadata": {},
   "source": [
    "## Plot predicted profit versus customers called"
   ]
  },
  {
   "cell_type": "code",
   "execution_count": 15,
   "metadata": {},
   "outputs": [
    {
     "data": {
      "image/png": "[encoded data removed]",
      "text/plain": [
       "<Figure size 720x432 with 1 Axes>"
      ]
     },
     "metadata": {},
     "output_type": "display_data"
    }
   ],
   "source": [
    "plt.figure(figsize=(10, 6))\n",
    "plt.plot(ratios, cum_profit_lr, label='Logistic Regression')\n",
    "plt.plot(ratios, cum_profit_rf, label='Random Forest')\n",
    "plt.plot(ratios, cum_profit_gbrt, label='Gradient Boosting')\n",
    "plt.ylabel('Profit in Euros')\n",
    "plt.xlabel('Percentage of customers called')\n",
    "plt.xlim(0, 100)\n",
    "plt.ylim(0, 15000)\n",
    "plt.legend()\n",
    "plt.title(\"Net profit versus percentage of customers called\");"
   ]
  },
  {
   "cell_type": "markdown",
   "metadata": {},
   "source": [
    "## Precision Recall tradeoff"
   ]
  },
  {
   "cell_type": "markdown",
   "metadata": {},
   "source": [
    "The advantageous thing about random forests is the `class_weight` parameter. This allows different weights to be placed on the negative and positive class so that misclassfied points have different penalties. In this case since we are interested in reducing the number of false negatives, we can place a higher weight on the positive class, which results in a decrease in precision (more false positives) but increased revenue as shown in the figure. "
   ]
  },
  {
   "cell_type": "markdown",
   "metadata": {},
   "source": [
    "## Estimate maximum profit obtained"
   ]
  },
  {
   "cell_type": "code",
   "execution_count": 16,
   "metadata": {
    "collapsed": true
   },
   "outputs": [],
   "source": [
    "max_profit, ratio_called = np.max(cum_profit_rf), np.argmax(cum_profit_rf)*1./bins*100"
   ]
  },
  {
   "cell_type": "code",
   "execution_count": 17,
   "metadata": {},
   "outputs": [
    {
     "name": "stdout",
     "output_type": "stream",
     "text": [
      "Maximum profit 13743.580 reached when 40.0 percent of customers contacted\n"
     ]
    }
   ],
   "source": [
    "print(\"Maximum profit {:.3f} reached when {:.1f} percent of customers contacted\".format(max_profit, ratio_called))"
   ]
  },
  {
   "cell_type": "code",
   "execution_count": 18,
   "metadata": {},
   "outputs": [
    {
     "name": "stdout",
     "output_type": "stream",
     "text": [
      "Expected profit for 10 million customers is 15.2 million Euros\n"
     ]
    }
   ],
   "source": [
    "print(\"Expected profit for 10 million customers is {:.1f} million Euros\".format(1.e7/len(profit_test)*max_profit/1.e6))"
   ]
  },
  {
   "cell_type": "code",
   "execution_count": 36,
   "metadata": {},
   "outputs": [
    {
     "name": "stdout",
     "output_type": "stream",
     "text": [
      "             precision    recall  f1-score   support\n",
      "\n",
      "          0       0.90      0.99      0.95     31970\n",
      "          1       0.80      0.17      0.28      4198\n",
      "\n",
      "avg / total       0.89      0.90      0.87     36168\n",
      "\n",
      "             precision    recall  f1-score   support\n",
      "\n",
      "          0       0.90      0.99      0.94      7952\n",
      "          1       0.73      0.16      0.27      1091\n",
      "\n",
      "avg / total       0.88      0.89      0.86      9043\n",
      "\n",
      "[0.89491582 0.89366291 0.89182912]\n"
     ]
    }
   ],
   "source": [
    "print(classification_report(y_pred=forest.predict(X_train), y_true=y_train))\n",
    "print(classification_report(y_pred=forest.predict(X_test), y_true=y_test))\n",
    "print(cross_val_score(forest, X_train, y_train))"
   ]
  },
  {
   "cell_type": "code",
   "execution_count": 30,
   "metadata": {},
   "outputs": [
    {
     "data": {
      "text/plain": [
       "RandomForestClassifier(bootstrap=True, class_weight={0: 1, 1: 1},\n",
       "            criterion='gini', max_depth=10, max_features=10,\n",
       "            max_leaf_nodes=None, min_impurity_decrease=0.0,\n",
       "            min_impurity_split=None, min_samples_leaf=1,\n",
       "            min_samples_split=2, min_weight_fraction_leaf=0.0,\n",
       "            n_estimators=200, n_jobs=1, oob_score=False, random_state=None,\n",
       "            verbose=0, warm_start=False)"
      ]
     },
     "execution_count": 30,
     "metadata": {},
     "output_type": "execute_result"
    }
   ],
   "source": [
    "forest = RandomForestClassifier(class_weight={0: 1, 1:1}, max_depth=10, max_features=10, n_estimators=200)\n",
    "forest.fit(X_train, y_train)"
   ]
  },
  {
   "cell_type": "code",
   "execution_count": 32,
   "metadata": {},
   "outputs": [
    {
     "name": "stdout",
     "output_type": "stream",
     "text": [
      "[0.89400348 0.89366291 0.89207798]\n",
      "             precision    recall  f1-score   support\n",
      "\n",
      "          0       0.90      0.99      0.94      7952\n",
      "          1       0.73      0.16      0.27      1091\n",
      "\n",
      "avg / total       0.88      0.89      0.86      9043\n",
      "\n"
     ]
    }
   ],
   "source": [
    "print(cross_val_score(forest, X_train, y_train))\n",
    "print(classification_report(y_pred=forest.predict(X_test), y_true=y_test))"
   ]
  },
  {
   "cell_type": "code",
   "execution_count": 37,
   "metadata": {},
   "outputs": [
    {
     "name": "stdout",
     "output_type": "stream",
     "text": [
      "             precision    recall  f1-score   support\n",
      "\n",
      "          0       0.92      0.99      0.96     31970\n",
      "          1       0.85      0.37      0.52      4198\n",
      "\n",
      "avg / total       0.91      0.92      0.91     36168\n",
      "\n",
      "             precision    recall  f1-score   support\n",
      "\n",
      "          0       0.91      0.98      0.94      7952\n",
      "          1       0.64      0.25      0.36      1091\n",
      "\n",
      "avg / total       0.87      0.89      0.87      9043\n",
      "\n"
     ]
    }
   ],
   "source": [
    "print(classification_report(y_pred=gbrt.predict(X_train), y_true=y_train))\n",
    "print(classification_report(y_pred=gbrt.predict(X_test), y_true=y_test))"
   ]
  },
  {
   "cell_type": "code",
   "execution_count": 33,
   "metadata": {},
   "outputs": [
    {
     "name": "stdout",
     "output_type": "stream",
     "text": [
      "[0.88305549 0.8882714  0.88510991]\n"
     ]
    }
   ],
   "source": [
    "print(cross_val_score(gbrt, X_train, y_train))"
   ]
  },
  {
   "cell_type": "code",
   "execution_count": 38,
   "metadata": {},
   "outputs": [
    {
     "name": "stdout",
     "output_type": "stream",
     "text": [
      "             precision    recall  f1-score   support\n",
      "\n",
      "          0       0.90      0.99      0.94     31970\n",
      "          1       0.63      0.19      0.29      4198\n",
      "\n",
      "avg / total       0.87      0.89      0.87     36168\n",
      "\n",
      "             precision    recall  f1-score   support\n",
      "\n",
      "          0       0.90      0.99      0.94      7952\n",
      "          1       0.64      0.19      0.30      1091\n",
      "\n",
      "avg / total       0.87      0.89      0.86      9043\n",
      "\n"
     ]
    }
   ],
   "source": [
    "print(classification_report(y_pred=lr_pipe.predict(X_train), y_true=y_train))\n",
    "print(classification_report(y_pred=lr_pipe.predict(X_test), y_true=y_test))"
   ]
  },
  {
   "cell_type": "code",
   "execution_count": 34,
   "metadata": {},
   "outputs": [
    {
     "name": "stdout",
     "output_type": "stream",
     "text": [
      "[0.8923447  0.89374585 0.89091663]\n"
     ]
    }
   ],
   "source": [
    "print(cross_val_score(lr_pipe, X_train, y_train))"
   ]
  },
  {
   "cell_type": "code",
   "execution_count": 28,
   "metadata": {
    "collapsed": true
   },
   "outputs": [],
   "source": [
    "from sklearn.model_selection import cross_val_score"
   ]
  }
 ],
 "metadata": {
  "kernelspec": {
   "display_name": "Python 3",
   "language": "python",
   "name": "python3"
  },
  "language_info": {
   "codemirror_mode": {
    "name": "ipython",
    "version": 3
   },
   "file_extension": ".py",
   "mimetype": "text/x-python",
   "name": "python",
   "nbconvert_exporter": "python",
   "pygments_lexer": "ipython3",
   "version": "3.6.3"
  }
 },
 "nbformat": 4,
 "nbformat_minor": 2
}
