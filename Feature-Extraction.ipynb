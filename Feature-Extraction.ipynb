{
 "cells": [
  {
   "cell_type": "code",
   "execution_count": 1,
   "metadata": {
    "collapsed": true
   },
   "outputs": [],
   "source": [
    "import numpy as np\n",
    "import pandas as pd"
   ]
  },
  {
   "cell_type": "code",
   "execution_count": 21,
   "metadata": {
    "collapsed": true
   },
   "outputs": [],
   "source": [
    "def load_bank_full(filename, outputfile='../output/bank_full_renamed.csv'):\n",
    "    \"\"\"\n",
    "    Read the bank_full.csv file into a Pandas DataFrame and rename the columns.\n",
    "    Stash the renamed Dataframe to a new file.\n",
    "    Extract the target and return the features, target as Pandas DataFrame, Series\n",
    "    \n",
    "    Parameters\n",
    "    ----------\n",
    "    filename:       String, path of the bank-full.csv file\n",
    "    \n",
    "    outputfile:     String, path of the temporary file to store renamed DataFrame\n",
    "    \n",
    "    Returns\n",
    "    --------\n",
    "    Pandas DataFrame, Pandas Series\n",
    "    \n",
    "    \"\"\"\n",
    "    df = pd.read_csv(filename, ';')\n",
    "    df.columns=['age', 'occupation', 'maritalStatus', 'education', 'hasCreditDefault', 'balance', 'hasHousingLoan', 'hasPersonalLoan',\n",
    "                'contactMethod', 'contactDay', 'contactMonth', 'contactDurationInSec', 'numContactsPerformed','daysSinceLastContact',\n",
    "                'numPrevContact', 'prevOutcome', 'target']\n",
    "    \n",
    "    df.to_csv(outputfile, index=False)\n",
    "    \n",
    "    return df"
   ]
  },
  {
   "cell_type": "code",
   "execution_count": 3,
   "metadata": {
    "collapsed": true
   },
   "outputs": [],
   "source": [
    "def get_year_and_weekday(df_day_month):\n",
    "    \"\"\"\n",
    "    Use the information that the data runs from May 2008 to Nov 2010,\n",
    "    add the year and day of week for every entry.\n",
    "    \n",
    "    Parameters\n",
    "    -----------\n",
    "    df_day_month:   Pandas DataFrame with columns 'contactDay' and 'contactMonth'\n",
    "    \n",
    "    Returns\n",
    "    -------\n",
    "    df:    Pandas DataFrame with columns 'contactYear' and 'weekDay'\n",
    "    \"\"\"\n",
    "    df = df_day_month\n",
    "    \n",
    "    # Ugly hack to get these three years correct\n",
    "    year = np.ones(len(df))*2008\n",
    "\n",
    "    idx = df[pd.Index(df['contactMonth']).get_loc('jan')].index[0]\n",
    "    year[idx:] = 2009\n",
    "    new_df = df.iloc[idx:, :]\n",
    "    idx2 = new_df[pd.Index(new_df['contactMonth']).get_loc('feb')].index[0]\n",
    "    new_df2 = df.iloc[idx2:, :]\n",
    "    idx3 = new_df2[pd.Index(new_df2['contactMonth']).get_loc('jan')].index[0]\n",
    "    year[idx3:] = 2010\n",
    "    \n",
    "    # Calculate day of the week\n",
    "    df['contactYear'] = year.astype(int).astype(str)\n",
    "    \n",
    "    months = {'jan':'01', 'feb':'02', 'mar':'03', 'apr':'04', 'may':'05', 'jun':'06', \n",
    "             'jul':'07', 'aug':'08', 'sep':'09', 'oct':'10', 'nov':'11', 'dec':'12'}\n",
    "    df['monthString'] = df['contactMonth'].apply(lambda x: months[x])\n",
    "\n",
    "    days = list(df['contactDay'].values.astype(str))\n",
    "    days = [day.zfill(2) for day in days]\n",
    "    df['dayString'] = days\n",
    "\n",
    "    df['date'] = df['contactYear'] + df['monthString'] + df['dayString']\n",
    "    df['weekDay'] = pd.to_datetime(df['date']).dt.weekday_name\n",
    "    \n",
    "    return df.loc[:, ['contactYear', 'weekDay']]"
   ]
  },
  {
   "cell_type": "code",
   "execution_count": 32,
   "metadata": {},
   "outputs": [],
   "source": [
    "def extract_features(features):\n",
    "    \"\"\"\n",
    "    Extract features from dataframe. \n",
    "    This includes: \n",
    "    1. Removing the 'contactDurationInSec' feature (not used in our model)\n",
    "    2. Replace -1 in the 'daysSinceLastContact' feature (not contacted before) with a large value\n",
    "    3. Convert the numeric features 'age', 'numContactsPerformed', 'numPrevContact', 'daysSinceLastContact' \n",
    "       to categorical features by binning them\n",
    "   \n",
    "    4. Add features 'yearOfContact' and 'dayOfWeek'\n",
    "    \n",
    "    Parameters\n",
    "    ----------\n",
    "    features_df: Pandas DataFrame\n",
    "    \n",
    "    Returns\n",
    "    -------\n",
    "    Pandas DataFrame with transformed features\n",
    "    \"\"\"\n",
    "    features_df = pd.DataFrame.copy(features)\n",
    "    \n",
    "    features_df.drop('contactDurationInSec', axis=1, inplace=True)\n",
    "    \n",
    "    \n",
    "    age_bins = [18, 30, 40, 50, 60, 100]\n",
    "    labels = ['<30', '30-40', '40-50', '50-60', '>60']\n",
    "    age_binned = pd.cut(features_df['age'], bins=age_bins, labels=labels)\n",
    "    \n",
    "    n_contacts_bins = [0, 1, 2, 5, 100]\n",
    "    labels = ['1', '2', '3-5', '>5']\n",
    "    n_contacts_binned = pd.cut(features_df['numContactsPerformed'], bins=n_contacts_bins, labels=labels)\n",
    "    \n",
    "    n_prev_contacts_bins = [-1, 0, 1, 2, 5, 100]\n",
    "    labels = ['0', '1', '2', '3-5', '>5']\n",
    "    n_prev_contacts_binned = pd.cut(features_df['numPrevContact'], bins=n_prev_contacts_bins, labels=labels)\n",
    "    \n",
    "    n_days_bins = [0, 30, 90, 150, 210, 270, 330, 390, 450, 10000]\n",
    "    labels = ['0-30', '30-90', '90-150',  '150-210', '210-270', '270-330', '330-390', '390-450', \">450\"]\n",
    "    n_days_since_contact_binned = pd.cut(features_df['daysSinceLastContact'], bins=n_days_bins, labels=labels)\n",
    "    \n",
    "    # Drop the numeric features and replace with binned features\n",
    "    features_df.drop(['age', 'daysSinceLastContact', 'numContactsPerformed', 'numPrevContact'], axis=1, inplace=True)\n",
    "    \n",
    "    features_df['ageBinned'] = age_binned\n",
    "    features_df['nContactsBinned'] = n_contacts_binned\n",
    "    features_df['nPrevContactsBinned'] = n_prev_contacts_binned\n",
    "    features_df['nDaysSinceLastContactBinned'] = n_days_since_contact_binned\n",
    "    \n",
    "    \n",
    "    # Add year and day of Week information\n",
    "    df_year_wd = get_year_and_weekday(features_df.loc[:, ['contactDay', 'contactMonth']])\n",
    "    features_df = pd.concat([features_df, df_year_wd], axis=1)\n",
    "    \n",
    "    features_df['contactDay'] = features_df['contactDay'].astype(str)\n",
    "    \n",
    "    # Map target to 0, 1\n",
    "    numeric = {'yes':1, 'no':0}\n",
    "    features_df['target'] = features_df['target'].apply(lambda x: numeric[x])\n",
    "    \n",
    "    return features_df"
   ]
  },
  {
   "cell_type": "code",
   "execution_count": 5,
   "metadata": {},
   "outputs": [],
   "source": [
    "def one_hot_encode_categorical(features):\n",
    "    \"\"\"\n",
    "    One-hot encoding of categorical features for logistic regression and trees.\n",
    "    Uses the Pandas built-in get_dummies method. \n",
    "    Remember to convert contactDay and contactYear to categorical features.\n",
    "    \"\"\"\n",
    "    features['contactYear'] = features['contactYear'].astype('category')\n",
    "    features['contactDay'] = features['contactDay'].astype('category')\n",
    "    return pd.get_dummies(features)"
   ]
  },
  {
   "cell_type": "code",
   "execution_count": 33,
   "metadata": {
    "collapsed": true
   },
   "outputs": [],
   "source": [
    "data_path = '../data/bank-full.csv'\n",
    "full_df = load_bank_full(data_path)"
   ]
  },
  {
   "cell_type": "code",
   "execution_count": 34,
   "metadata": {},
   "outputs": [],
   "source": [
    "features_df = extract_features(full_df)\n",
    "features_df.to_csv('../output/bank_all_features_target.csv', index=False)"
   ]
  },
  {
   "cell_type": "code",
   "execution_count": 52,
   "metadata": {},
   "outputs": [],
   "source": [
    "encoded = one_hot_encode_categorical(features_df)"
   ]
  }
 ],
 "metadata": {
  "kernelspec": {
   "display_name": "Python 3",
   "language": "python",
   "name": "python3"
  },
  "language_info": {
   "codemirror_mode": {
    "name": "ipython",
    "version": 3
   },
   "file_extension": ".py",
   "mimetype": "text/x-python",
   "name": "python",
   "nbconvert_exporter": "python",
   "pygments_lexer": "ipython3",
   "version": "3.6.3"
  }
 },
 "nbformat": 4,
 "nbformat_minor": 2
}
